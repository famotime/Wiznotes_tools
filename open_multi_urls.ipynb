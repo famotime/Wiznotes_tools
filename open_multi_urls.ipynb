{
 "cells": [
  {
   "cell_type": "code",
   "execution_count": 3,
   "metadata": {},
   "outputs": [
    {
     "name": "stdout",
     "output_type": "stream",
     "text": [
      "15\n"
     ]
    },
    {
     "data": {
      "text/plain": [
       "['https://pan.baidu.com/s/1ENNnc1M2c-Af0XLimkRzQA?pwd=sg2l',\n",
       " 'https://pan.baidu.com/s/1ZXFpdvYLsj7H8ZRJeVXHvA?pwd=ujca',\n",
       " 'https://pan.baidu.com/s/1v4g4cSL2oemf8yaR-1QTgA?pwd=u5ds',\n",
       " 'https://pan.baidu.com/s/13MXkYN8INS3F5aZnLuTosQ?pwd=pz30',\n",
       " 'https://pan.baidu.com/s/1ipSLF22O2_yf9eSX0Bdp9w?pwd=fp02',\n",
       " 'https://pan.baidu.com/s/1E1YIcASKENTGhxhiw2Z1QQ?pwd=6ykp',\n",
       " 'https://pan.baidu.com/s/1BsPQcgM2V2PTLXmNLnr4-A?pwd=jrwu',\n",
       " 'https://pan.baidu.com/s/1PXL18_eh6GDYNt1RTieAEg?pwd=v4jv',\n",
       " 'https://pan.baidu.com/s/1tyoXUYR7RVh3TRCOXbKvqQ?pwd=pfjy',\n",
       " 'https://pan.baidu.com/s/1c_9LTb2AXBh9Pjo-aPcCWw?pwd=rwq5',\n",
       " 'https://pan.baidu.com/s/1vXO4pN5ZSyjNzhLcNdr7ag?pwd=9d76',\n",
       " 'https://pan.baidu.com/s/1RNIYLMQPCThNV_wJeYjBow?pwd=3j1b',\n",
       " 'https://pan.baidu.com/s/1lKB099ymd9WObVa1Gw7jCw?pwd=qb69',\n",
       " 'https://pan.baidu.com/s/1l7murW68za5Lw409-1bTrg?pwd=l30r',\n",
       " 'https://pan.baidu.com/s/1hmBrf6lxtwJz1L6C_r8fMQ?pwd=o6i1']"
      ]
     },
     "execution_count": 3,
     "metadata": {},
     "output_type": "execute_result"
    }
   ],
   "source": [
    "import re\n",
    "import pyperclip\n",
    "\n",
    "text = pyperclip.paste()\n",
    "urls = re.findall(r'https?://\\S+', text)\n",
    "print(len(urls))\n",
    "urls"
   ]
  },
  {
   "cell_type": "code",
   "execution_count": 10,
   "metadata": {},
   "outputs": [],
   "source": [
    "from selenium import webdriver\n",
    "from selenium.webdriver.common.keys import Keys\n",
    "from selenium.webdriver.common.by import By\n",
    "import time\n",
    "\n",
    "\n",
    "driver = webdriver.Chrome()\n",
    "\n",
    "# 打开第一个网页并保留\n",
    "driver.get(urls[0])"
   ]
  },
  {
   "cell_type": "code",
   "execution_count": 11,
   "metadata": {},
   "outputs": [],
   "source": [
    "js=\"window.open('{}','_blank');\"\n",
    "# 遍历网址列表，打开每个网页并在新标签页中打开\n",
    "for url in urls[1:]:\n",
    "    driver.execute_script(js.format(url))\n",
    "    time.sleep(0.5)\n",
    "    # driver.switch_to.window(driver.window_handles[-1])    #切换到最新页面\n"
   ]
  }
 ],
 "metadata": {
  "kernelspec": {
   "display_name": "Python 3.9.13 ('base')",
   "language": "python",
   "name": "python3"
  },
  "language_info": {
   "codemirror_mode": {
    "name": "ipython",
    "version": 3
   },
   "file_extension": ".py",
   "mimetype": "text/x-python",
   "name": "python",
   "nbconvert_exporter": "python",
   "pygments_lexer": "ipython3",
   "version": "3.9.13"
  },
  "orig_nbformat": 4,
  "vscode": {
   "interpreter": {
    "hash": "57bc2b6ce032b5f0e93daa91901b7ea38a856826ef43aa9e95b6d3999f5310df"
   }
  }
 },
 "nbformat": 4,
 "nbformat_minor": 2
}
