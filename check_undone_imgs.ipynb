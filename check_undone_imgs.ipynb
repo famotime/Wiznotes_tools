{
 "metadata": {
  "language_info": {
   "codemirror_mode": {
    "name": "ipython",
    "version": 3
   },
   "file_extension": ".py",
   "mimetype": "text/x-python",
   "name": "python",
   "nbconvert_exporter": "python",
   "pygments_lexer": "ipython3",
   "version": "3.7.4-final"
  },
  "orig_nbformat": 2,
  "kernelspec": {
   "name": "python_defaultSpec_1597558541720",
   "display_name": "Python 3.7.4 64-bit"
  }
 },
 "nbformat": 4,
 "nbformat_minor": 2,
 "cells": [
  {
   "cell_type": "code",
   "execution_count": 6,
   "metadata": {
    "tags": []
   },
   "outputs": [
    {
     "output_type": "stream",
     "name": "stdout",
     "text": "3\nC:\\QMDownload\\BaiduNet\\手机截图2013-2020\\done\\20171012-075858 -- https,,,f2.eword.cn,.png\nC:\\QMDownload\\BaiduNet\\手机截图2013-2020\\done\\20171012-075909 -- ahttps,,,f2.eword.cn.png\nC:\\QMDownload\\BaiduNet\\手机截图2013-2020\\done\\20171012-075916 -- https,,,f2.eword.cn,.png\n"
    }
   ],
   "source": [
    "\"\"\"找到未成功发送到为知笔记的文件，重新移入待处理文件夹\"\"\"\n",
    "import os\n",
    "import re\n",
    "\n",
    "\n",
    "def process(text):\n",
    "    text = re.sub(r'_\\d.ziw', '', text)\n",
    "    match_obj = re.match(r'(.*?)#', text)\n",
    "    if match_obj:\n",
    "        text = match_obj.group(1)\n",
    "\n",
    "    replace_words = ['.ziw','.jpg','.png', '-', ',', '%',\"'\", '_', ' ']\n",
    "    for word in replace_words:\n",
    "        text = text.replace(word, '')\n",
    "    text = text.strip()\n",
    "\n",
    "    return text[:30]\n",
    "\n",
    "os.chdir(r'C:\\temp')\n",
    "\n",
    "wiz_path = r'C:\\QMDownload\\Backup\\Wiz Knowledge\\Data\\quincy.zou@gmail.com\\知识点滴\\思考&写作\\图卦笔记'\n",
    "img_done_path = r'C:\\QMDownload\\BaiduNet\\手机截图2013-2020\\done'\n",
    "\n",
    "wiz_files = [file for file in os.listdir(wiz_path) if file.endswith('.ziw')]\n",
    "wiz_files_processed = [process(file) for file in wiz_files]\n",
    "img_done_files = [file for file in os.listdir(img_done_path) if (file.endswith('.jpg') or file.endswith('.png'))]   # 已发送的图片（实际有部分图片未成功发送到为知笔记）\n",
    "\n",
    "img_undone_files = []\n",
    "for file in img_done_files:\n",
    "    if process(file) not in wiz_files_processed:\n",
    "        img_undone_files.append(os.path.join(img_done_path, file))\n",
    "txt_undone_files = [file[:-4]+'.txt' for file in img_undone_files]\n",
    "\n",
    "with open('wiz_files.txt', 'w', encoding='utf-8') as f:\n",
    "    f.write('\\n'.join(wiz_files))\n",
    "with open('img_undone_files.txt', 'w', encoding='utf-8') as f:\n",
    "    f.write('\\n'.join(img_undone_files))\n",
    "\n",
    "# img_undone_files = set(img_done_files).difference(set(wiz_files)) \n",
    "\n",
    "print(len(img_undone_files))\n",
    "print('\\n'.join(img_undone_files))"
   ]
  },
  {
   "cell_type": "code",
   "execution_count": 3,
   "metadata": {},
   "outputs": [],
   "source": [
    "import shutil\n",
    "\n",
    "def move_undone_files(img_undone_files, txt_undone_files, todo_path):\n",
    "    \"\"\"将未成功发送的图片和文本文件移到带处理文件夹\"\"\"\n",
    "    for img in img_undone_files:\n",
    "        shutil.move(img, todo_path)\n",
    "    for txt in txt_undone_files:\n",
    "        shutil.move(txt, todo_path)\n",
    "\n",
    "todo_path = r'C:\\QMDownload\\BaiduNet\\手机截图2013-2020'\n",
    "move_undone_files(img_undone_files, txt_undone_files, todo_path)"
   ]
  },
  {
   "cell_type": "code",
   "execution_count": 71,
   "metadata": {
    "tags": []
   },
   "outputs": [
    {
     "output_type": "stream",
     "name": "stdout",
     "text": "20190408225944221Chrome赞比亚\n20190408225944221Chrome赞比亚\n"
    },
    {
     "output_type": "execute_result",
     "data": {
      "text/plain": "True"
     },
     "metadata": {},
     "execution_count": 71
    }
   ],
   "source": [
    "import re\n",
    "\n",
    "def process(text):\n",
    "    text = re.sub(r'_\\d.ziw', '', text)\n",
    "    match_obj = re.match(r'(.*?)#', text)\n",
    "    if match_obj:\n",
    "        text = match_obj.group(1)\n",
    "\n",
    "    replace_words = ['.ziw','.jpg','.png', '-', ',', '%',\"'\", '_', ' ']\n",
    "    for word in replace_words:\n",
    "        text = text.replace(word, '')\n",
    "    text = text.strip()\n",
    "\n",
    "    return text[:30]\n",
    "\n",
    "\n",
    "img_file = '20190408_225944221_Chrome -- 赞比亚#护土调换五千名婴儿#,初步调查称.jpg'\n",
    "wiz_file = '20190408_225944221_Chrome -- 赞比亚_2.ziw'\n",
    "\n",
    "print(process(img_file))\n",
    "print(process(wiz_file))\n",
    "\n",
    "process(img_file) == process(wiz_file)"
   ]
  },
  {
   "cell_type": "code",
   "execution_count": 2,
   "metadata": {
    "tags": []
   },
   "outputs": [
    {
     "output_type": "stream",
     "name": "stdout",
     "text": "34\n2013-06-25-18-58-57 - 掉价蚊丁-有个今年毕业的学弟最近在投简历 (2)_2.ziw\n2014-12-06-13-03-55 - @琉烬沧笙-睡过叶修-我要提醒东北的战友 (2)_2.ziw\n2015-06-02-19-17-56 - 你每天都觉得自己鹤立鸡群-有本事离开那群 (2)_2.ziw\n2015-06-11-22-44-04 - 4G4G1122244@刘春-最近碰到的 (2)_2.ziw\n2015-07-09-18-59-39 -- 4G4020山的1859这个礼拜见的东西 (2)_2.ziw\n2015-07-16-19-04-30 - @小野妹子学吐槽-感觉朋友圈的文化是“拼 (2)_2.ziw\n2015-08-31-22-54-08 - 46462254真实逗比新闻-1-上海一 (2)_2.ziw\n2015-11-28-19-02-37 - @马伯庸-忽然在想-在过去二十四小时里- (2)_2.ziw\n20170105_085942 -- ×软件定义世界(SDX)52.人们如果对_2.ziw\n20170107-232941 -- 中国12月外汇储备301052亿美元中国_2.ziw\n20170107-233021 -- 央行约谈三大比特币交易所被约谈者表示将积_2.ziw\n20170108-223817 -- 避霾旅游近年来已成为冬季旅游的“刚需1月_2.ziw\n20170108-223850 - 林采宜-房地产有泡沬没争议三四线城市已在_2.ziw\n20170117-071955 -- 小林制药增产中药卖给中国游客抗雾霾日本小_2.ziw\n20170117-072212 -- 深圳超500辆共享单车惨遭毒手破坏堆成”_2.ziw\n20170117-204239 - MH370-暂停搜索失联至今的马航客机中_2.ziw\n20170117-215948 - 救命-我被桌子封印住了!19】准白宫幕僚_2.ziw\n20170117-220303 - 社科院余永定-克服汇率浮动恐惧症汇率不值_2.ziw\n20170120-001923 -- 郑州50人环卫队30余人系身家超千万土豪_2.ziw\n20170121-011746 -- 27美国监管机构结束对特斯拉自动辅助驾驶_2.ziw\n20170121-012100 - @和菜头-这是大理双廊海地生活门口的一张_2.ziw\n20171012-075858 - https-f2.eword_2.ziw\n20171012-075909 - ahttps-f2.eword_2.ziw\n20171014-215002_网易蜗牛读书 - 回答1-4下一条比如在赌场上-如果你已经 (3)_2.ziw\n20180124-212720_Chrome - 53-口(27人在的时候-以为总有机会_2.ziw\n20180412-200607_Chrome - 研究-《 Pokemon go》并没有引 (2)_2.ziw\n20181003-210800_Chrome - “在一个毫无权利可言的时代-阅读是有教养 (2)_2.ziw\n20181025-184100_Chrome -- 美国南卡州一人独享16亿美元彩票头奖美国_2.ziw\n20190128_191520296_Chrome -- 哥伦比亚电影公司片头LOGO火炬女神的原 _2.ziw\n20190227_201311803_Chrome - 任正非-孟晚舟永生永世不可能做接班人任正 (_2.ziw\n20190312_200743366_Chrome - 伊朗情侣当众求婚被捕警方-受堕落西方文化 (_2.ziw\n20190318_184003948_Chrome -- 有政协委员曾建议大湾区设无需翻墙的互联网 _2.ziw\n20190320_193541109_Chrome - @天桥底下卖碟的- reddit一位网友 (_2.ziw\n20200609_191635474_Chrome - 91-匚地摊经济概念股早盘继续下挫-截至_2.ziw\n"
    }
   ],
   "source": [
    "wiz_path = r'C:\\QMDownload\\Backup\\Wiz Knowledge\\Data\\quincy.zou@gmail.com\\知识点滴\\思考&写作\\图卦笔记'\n",
    "\n",
    "duplicated = [file for file in os.listdir(wiz_path) if file.endswith('_2.ziw')]\n",
    "print(len(duplicated))\n",
    "print('\\n'.join(duplicated))"
   ]
  },
  {
   "cell_type": "code",
   "execution_count": 4,
   "metadata": {
    "tags": []
   },
   "outputs": [],
   "source": [
    "import os\n",
    "\n",
    "os.chdir(r'C:\\QMDownload\\BaiduNet\\手机截图2013-2020')\n",
    "txt_files = [file for file in os.listdir() if file.endswith('.txt')]\n",
    "\n",
    "for file in txt_files:\n",
    "    try:\n",
    "        with open(file, encoding='utf-8') as f:\n",
    "            content = f.read()\n",
    "    except Exception as e:\n",
    "        with open(file, encoding='gbk') as f:\n",
    "            content = f.read()\n",
    "        print(e)\n",
    "\n",
    "    with open(file, 'w', encoding='gbk') as f:\n",
    "        f.write(content)\n"
   ]
  },
  {
   "cell_type": "code",
   "execution_count": null,
   "metadata": {},
   "outputs": [],
   "source": []
  }
 ]
}